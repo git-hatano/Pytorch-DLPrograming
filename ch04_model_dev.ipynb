{
  "nbformat": 4,
  "nbformat_minor": 0,
  "metadata": {
    "colab": {
      "name": "ch04_model_dev.ipynb",
      "provenance": [],
      "collapsed_sections": [],
      "toc_visible": true,
      "include_colab_link": true
    },
    "kernelspec": {
      "display_name": "Python 3",
      "language": "python",
      "name": "python3"
    },
    "language_info": {
      "codemirror_mode": {
        "name": "ipython",
        "version": 3
      },
      "file_extension": ".py",
      "mimetype": "text/x-python",
      "name": "python",
      "nbconvert_exporter": "python",
      "pygments_lexer": "ipython3",
      "version": "3.8.5"
    }
  },
  "cells": [
    {
      "cell_type": "markdown",
      "metadata": {
        "id": "view-in-github",
        "colab_type": "text"
      },
      "source": [
        "<a href=\"https://colab.research.google.com/github/git-hatano/Pytorch-DLPrograming/blob/main/ch04_model_dev.ipynb\" target=\"_parent\"><img src=\"https://colab.research.google.com/assets/colab-badge.svg\" alt=\"Open In Colab\"/></a>"
      ]
    },
    {
      "cell_type": "markdown",
      "metadata": {
        "id": "qU9dTlgPF-Km"
      },
      "source": [
        "# 4章 予測関数定義"
      ]
    },
    {
      "cell_type": "code",
      "metadata": {
        "id": "xV4MBR1YF-Kt",
        "colab": {
          "base_uri": "https://localhost:8080/"
        },
        "outputId": "0aa66089-887c-460e-a719-71e8ed120048"
      },
      "source": [
        "# 必要ライブラリの導入\n",
        "\n",
        "!pip install japanize_matplotlib | tail -n 1\n",
        "!pip install torchviz | tail -n 1"
      ],
      "execution_count": null,
      "outputs": [
        {
          "output_type": "stream",
          "name": "stdout",
          "text": [
            "Successfully installed japanize-matplotlib-1.1.3\n",
            "Successfully installed torchviz-0.0.2\n"
          ]
        }
      ]
    },
    {
      "cell_type": "code",
      "metadata": {
        "id": "BLjiUdMkF-Kv"
      },
      "source": [
        "# 必要ライブラリのインポート\n",
        "\n",
        "%matplotlib inline\n",
        "import numpy as np\n",
        "import matplotlib.pyplot as plt\n",
        "import japanize_matplotlib"
      ],
      "execution_count": null,
      "outputs": []
    },
    {
      "cell_type": "code",
      "metadata": {
        "id": "jDn5PNK1F-Kw"
      },
      "source": [
        "# PyTorch関連ライブラリ\n",
        "import torch\n",
        "import torch.nn as nn\n",
        "from torchviz import make_dot"
      ],
      "execution_count": null,
      "outputs": []
    },
    {
      "cell_type": "code",
      "metadata": {
        "id": "2EvqxdjJF-Kw"
      },
      "source": [
        "# デフォルトフォントサイズ変更\n",
        "plt.rcParams['font.size'] = 14\n",
        "\n",
        "# デフォルトグラフサイズ変更\n",
        "plt.rcParams['figure.figsize'] = (6,6)\n",
        "\n",
        "# デフォルトで方眼表示ON\n",
        "plt.rcParams['axes.grid'] = True\n",
        "\n",
        "# numpyの浮動小数点の表示精度\n",
        "np.set_printoptions(suppress=True, precision=4)"
      ],
      "execution_count": null,
      "outputs": []
    },
    {
      "cell_type": "markdown",
      "metadata": {
        "id": "_3WZJXXHF-Kw"
      },
      "source": [
        "## 4.4 擬似コードとしての予測関数"
      ]
    },
    {
      "cell_type": "code",
      "metadata": {
        "id": "QMdb2lxdF-Kw"
      },
      "source": [
        "# レイヤー関数定義\n",
        "\n",
        "# 最初の線形関数\n",
        "# 784 入力数\n",
        "# 128 出力数\n",
        "l1 = nn.Linear(784, 128)\n",
        "\n",
        "# 2番目の線形関数\n",
        "# 128 入力数\n",
        "# 10 出力数\n",
        "l2 = nn.Linear(128, 10)\n",
        "\n",
        "# 活性化関数\n",
        "relu = nn.ReLU(inplace=True)"
      ],
      "execution_count": null,
      "outputs": []
    },
    {
      "cell_type": "code",
      "metadata": {
        "id": "F9HCp5nUF-Kx",
        "colab": {
          "base_uri": "https://localhost:8080/"
        },
        "outputId": "fff88b97-0394-4e30-f0e2-547113d26365"
      },
      "source": [
        "# 入力テンソルから出力テンソルを計算\n",
        "\n",
        "# ダミー入力データを作成\n",
        "inputs = torch.randn(100, 784)\n",
        "\n",
        "# 中間テンソル1の計算\n",
        "m1 = l1(inputs)\n",
        "\n",
        "# 中間テンソル2の計算\n",
        "m2 = relu(m1)\n",
        "\n",
        "# 出力テンソルの計算\n",
        "outputs = l2(m2)\n",
        "\n",
        "# 入力テンソルと出力テンソルのshape確認\n",
        "print('入力テンソル', inputs.shape)\n",
        "print('出力テンソル', outputs.shape)"
      ],
      "execution_count": null,
      "outputs": [
        {
          "output_type": "stream",
          "name": "stdout",
          "text": [
            "入力テンソル torch.Size([100, 784])\n",
            "出力テンソル torch.Size([100, 10])\n"
          ]
        }
      ]
    },
    {
      "cell_type": "code",
      "metadata": {
        "id": "k1pBFECMF-Kx",
        "colab": {
          "base_uri": "https://localhost:8080/"
        },
        "outputId": "c06ecf7e-5d25-43f1-9c92-a87ef47bcab5"
      },
      "source": [
        "# nn.Sequentialを使って、全体を合成関数として定義\n",
        "\n",
        "net2 = nn.Sequential(\n",
        "    l1,\n",
        "    relu,\n",
        "    l2\n",
        ")\n",
        "\n",
        "outputs2 = net2(inputs)\n",
        "\n",
        "# 入力テンソルと出力テンソルのshape確認\n",
        "print('入力テンソル', inputs.shape)\n",
        "print('出力テンソル', outputs2.shape)"
      ],
      "execution_count": null,
      "outputs": [
        {
          "output_type": "stream",
          "name": "stdout",
          "text": [
            "入力テンソル torch.Size([100, 784])\n",
            "出力テンソル torch.Size([100, 10])\n"
          ]
        }
      ]
    },
    {
      "cell_type": "markdown",
      "metadata": {
        "id": "wQf1DBaS8FZm"
      },
      "source": [
        "## 4.7　活性化関数の目的\n",
        "当コラムでは予測結果のグラフ(図4-9から図4-11) が重要で、そのための実装コードの意味が現段階でわからなくて構いません。以下のコードがあくまで参考情報としての提示になります。"
      ]
    },
    {
      "cell_type": "markdown",
      "metadata": {
        "id": "J7apEGDq8zS7"
      },
      "source": [
        "#### 学習用のデータの計算"
      ]
    },
    {
      "cell_type": "code",
      "metadata": {
        "id": "WRauI6Z7Gvz8"
      },
      "source": [
        "# 訓練データ、検証データの計算\n",
        "np.random.seed(123)\n",
        "x = np.random.randn(100,1)\n",
        "\n",
        "# yの値はx^2に乱数の要素を1/10程度付加した\n",
        "y = x**2 + np.random.randn(100,1) * 0.1\n",
        "\n",
        "# データを50件ずつに分け、それぞれ訓練用、検証用とする\n",
        "x_train = x[:50,:]\n",
        "x_test = x[50:,:]\n",
        "y_train = y[:50,:]\n",
        "y_test = y[50:,:]"
      ],
      "execution_count": null,
      "outputs": []
    },
    {
      "cell_type": "code",
      "metadata": {
        "id": "WubHpuSu9F2a",
        "colab": {
          "base_uri": "https://localhost:8080/",
          "height": 378
        },
        "outputId": "ecdd68b0-525b-4cbf-9a4a-f9d09f4d7ec2"
      },
      "source": [
        "# 散布図表示\n",
        "plt.scatter(x_train, y_train, c='b', label='訓練データ')\n",
        "plt.scatter(x_test, y_test, c='k', marker='x', label='検証データ')\n",
        "plt.legend()\n",
        "plt.show()"
      ],
      "execution_count": null,
      "outputs": [
        {
          "output_type": "display_data",
          "data": {
            "image/png": "[encoded data removed]",
            "text/plain": [
              "<Figure size 432x432 with 1 Axes>"
            ]
          },
          "metadata": {
            "needs_background": "light"
          }
        }
      ]
    },
    {
      "cell_type": "code",
      "metadata": {
        "id": "eCrl5qLz9yB8"
      },
      "source": [
        "# 入力変数x と正解値 ytのTesor化\n",
        "\n",
        "inputs = torch.tensor(x_train).float()\n",
        "labels = torch.tensor(y_train).float()\n",
        "\n",
        "inputs_test = torch.tensor(x_test).float()\n",
        "labels_test = torch.tensor(y_test).float()"
      ],
      "execution_count": null,
      "outputs": []
    },
    {
      "cell_type": "code",
      "metadata": {
        "id": "k3QIOgzv-OOO"
      },
      "source": [
        "import torch.optim as optim"
      ],
      "execution_count": null,
      "outputs": []
    },
    {
      "cell_type": "markdown",
      "metadata": {
        "id": "HVl4DOk0-vhO"
      },
      "source": [
        "### 単回帰の場合"
      ]
    },
    {
      "cell_type": "code",
      "metadata": {
        "id": "JRyZGGMN9_d3"
      },
      "source": [
        "# モデルの定義\n",
        "\n",
        "class Net(nn.Module):\n",
        "    def __init__(self):\n",
        "        #  親クラスnn.Modulesの初期化呼び出し\n",
        "        super().__init__()\n",
        "\n",
        "        # 出力層の定義\n",
        "        self.l1 = nn.Linear(1, 1)   \n",
        "        \n",
        "    # 予測関数の定義\n",
        "    def forward(self, x):\n",
        "        x1 = self.l1(x) # 線形回帰\n",
        "        return x1"
      ],
      "execution_count": null,
      "outputs": []
    },
    {
      "cell_type": "code",
      "metadata": {
        "id": "h4P55Zk5-Cwk"
      },
      "source": [
        "# 学習率\n",
        "lr = 0.01\n",
        "\n",
        "# インスタンス生成　(パラメータ値初期化)\n",
        "net = Net()\n",
        "\n",
        "# 最適化アルゴリズム: 勾配降下法\n",
        "optimizer = optim.SGD(net.parameters(), lr=lr)\n",
        "\n",
        "# 損失関数： 最小二乗誤差\n",
        "criterion = nn.MSELoss()\n",
        "\n",
        "# 繰り返し回数\n",
        "num_epochs = 10000\n",
        "\n",
        "# 評価結果記録用 (損失関数値のみ記録)\n",
        "history = np.zeros((0,2))"
      ],
      "execution_count": null,
      "outputs": []
    },
    {
      "cell_type": "code",
      "metadata": {
        "id": "po6RlG27-FqN",
        "colab": {
          "base_uri": "https://localhost:8080/"
        },
        "outputId": "da66d24a-65b8-4db4-c0ad-8d773b20ccf7"
      },
      "source": [
        "# 繰り返し計算メインループ\n",
        "\n",
        "for epoch in range(num_epochs):\n",
        "    \n",
        "    # 勾配値初期化\n",
        "    optimizer.zero_grad()\n",
        "\n",
        "    # 予測計算\n",
        "    outputs = net(inputs)\n",
        "  \n",
        "    # 誤差計算\n",
        "    loss = criterion(outputs, labels)\n",
        "\n",
        "    #勾配計算\n",
        "    loss.backward()\n",
        "\n",
        "    # 勾配降下法の適用\n",
        "    optimizer.step()\n",
        "\n",
        "    # 100回ごとに途中経過を記録する\n",
        "    if ( epoch % 100 == 0):\n",
        "        history = np.vstack((history, np.array([epoch, loss.item()])))\n",
        "        print(f'Epoch {epoch} loss: {loss.item():.5f}')"
      ],
      "execution_count": null,
      "outputs": [
        {
          "output_type": "stream",
          "name": "stdout",
          "text": [
            "Epoch 0 loss: 5.32662\n",
            "Epoch 100 loss: 3.24303\n",
            "Epoch 200 loss: 3.21590\n",
            "Epoch 300 loss: 3.21545\n",
            "Epoch 400 loss: 3.21544\n",
            "Epoch 500 loss: 3.21544\n",
            "Epoch 600 loss: 3.21544\n",
            "Epoch 700 loss: 3.21544\n",
            "Epoch 800 loss: 3.21544\n",
            "Epoch 900 loss: 3.21544\n",
            "Epoch 1000 loss: 3.21544\n",
            "Epoch 1100 loss: 3.21544\n",
            "Epoch 1200 loss: 3.21544\n",
            "Epoch 1300 loss: 3.21544\n",
            "Epoch 1400 loss: 3.21544\n",
            "Epoch 1500 loss: 3.21544\n",
            "Epoch 1600 loss: 3.21544\n",
            "Epoch 1700 loss: 3.21544\n",
            "Epoch 1800 loss: 3.21544\n",
            "Epoch 1900 loss: 3.21544\n",
            "Epoch 2000 loss: 3.21544\n",
            "Epoch 2100 loss: 3.21544\n",
            "Epoch 2200 loss: 3.21544\n",
            "Epoch 2300 loss: 3.21544\n",
            "Epoch 2400 loss: 3.21544\n",
            "Epoch 2500 loss: 3.21544\n",
            "Epoch 2600 loss: 3.21544\n",
            "Epoch 2700 loss: 3.21544\n",
            "Epoch 2800 loss: 3.21544\n",
            "Epoch 2900 loss: 3.21544\n",
            "Epoch 3000 loss: 3.21544\n",
            "Epoch 3100 loss: 3.21544\n",
            "Epoch 3200 loss: 3.21544\n",
            "Epoch 3300 loss: 3.21544\n",
            "Epoch 3400 loss: 3.21544\n",
            "Epoch 3500 loss: 3.21544\n",
            "Epoch 3600 loss: 3.21544\n",
            "Epoch 3700 loss: 3.21544\n",
            "Epoch 3800 loss: 3.21544\n",
            "Epoch 3900 loss: 3.21544\n",
            "Epoch 4000 loss: 3.21544\n",
            "Epoch 4100 loss: 3.21544\n",
            "Epoch 4200 loss: 3.21544\n",
            "Epoch 4300 loss: 3.21544\n",
            "Epoch 4400 loss: 3.21544\n",
            "Epoch 4500 loss: 3.21544\n",
            "Epoch 4600 loss: 3.21544\n",
            "Epoch 4700 loss: 3.21544\n",
            "Epoch 4800 loss: 3.21544\n",
            "Epoch 4900 loss: 3.21544\n",
            "Epoch 5000 loss: 3.21544\n",
            "Epoch 5100 loss: 3.21544\n",
            "Epoch 5200 loss: 3.21544\n",
            "Epoch 5300 loss: 3.21544\n",
            "Epoch 5400 loss: 3.21544\n",
            "Epoch 5500 loss: 3.21544\n",
            "Epoch 5600 loss: 3.21544\n",
            "Epoch 5700 loss: 3.21544\n",
            "Epoch 5800 loss: 3.21544\n",
            "Epoch 5900 loss: 3.21544\n",
            "Epoch 6000 loss: 3.21544\n",
            "Epoch 6100 loss: 3.21544\n",
            "Epoch 6200 loss: 3.21544\n",
            "Epoch 6300 loss: 3.21544\n",
            "Epoch 6400 loss: 3.21544\n",
            "Epoch 6500 loss: 3.21544\n",
            "Epoch 6600 loss: 3.21544\n",
            "Epoch 6700 loss: 3.21544\n",
            "Epoch 6800 loss: 3.21544\n",
            "Epoch 6900 loss: 3.21544\n",
            "Epoch 7000 loss: 3.21544\n",
            "Epoch 7100 loss: 3.21544\n",
            "Epoch 7200 loss: 3.21544\n",
            "Epoch 7300 loss: 3.21544\n",
            "Epoch 7400 loss: 3.21544\n",
            "Epoch 7500 loss: 3.21544\n",
            "Epoch 7600 loss: 3.21544\n",
            "Epoch 7700 loss: 3.21544\n",
            "Epoch 7800 loss: 3.21544\n",
            "Epoch 7900 loss: 3.21544\n",
            "Epoch 8000 loss: 3.21544\n",
            "Epoch 8100 loss: 3.21544\n",
            "Epoch 8200 loss: 3.21544\n",
            "Epoch 8300 loss: 3.21544\n",
            "Epoch 8400 loss: 3.21544\n",
            "Epoch 8500 loss: 3.21544\n",
            "Epoch 8600 loss: 3.21544\n",
            "Epoch 8700 loss: 3.21544\n",
            "Epoch 8800 loss: 3.21544\n",
            "Epoch 8900 loss: 3.21544\n",
            "Epoch 9000 loss: 3.21544\n",
            "Epoch 9100 loss: 3.21544\n",
            "Epoch 9200 loss: 3.21544\n",
            "Epoch 9300 loss: 3.21544\n",
            "Epoch 9400 loss: 3.21544\n",
            "Epoch 9500 loss: 3.21544\n",
            "Epoch 9600 loss: 3.21544\n",
            "Epoch 9700 loss: 3.21544\n",
            "Epoch 9800 loss: 3.21544\n",
            "Epoch 9900 loss: 3.21544\n"
          ]
        }
      ]
    },
    {
      "cell_type": "code",
      "metadata": {
        "id": "v-ClJcWw-XTk",
        "colab": {
          "base_uri": "https://localhost:8080/",
          "height": 396
        },
        "outputId": "b7789af3-72e2-4bd1-9e31-6ed9fe1e674d"
      },
      "source": [
        "# 結果のグラフ化\n",
        "labels_pred = net(inputs_test)\n",
        "\n",
        "plt.title('隠れ層なし　活性化関数なし')\n",
        "plt.scatter(inputs_test[:,0].data, labels_pred[:,0].data, c='b', label='予測値')\n",
        "plt.scatter(inputs_test[:,0].data, labels_test[:,0].data, c='k', marker='x',label='正解値')\n",
        "plt.legend()\n",
        "plt.show()"
      ],
      "execution_count": null,
      "outputs": [
        {
          "output_type": "display_data",
          "data": {
            "image/png": "[encoded data removed]",
            "text/plain": [
              "<Figure size 432x432 with 1 Axes>"
            ]
          },
          "metadata": {
            "needs_background": "light"
          }
        }
      ]
    },
    {
      "cell_type": "markdown",
      "metadata": {
        "id": "yAO6k3Nu-z85"
      },
      "source": [
        "### 疑似ディープラーニングの場合"
      ]
    },
    {
      "cell_type": "code",
      "metadata": {
        "id": "pEQbY7qG-nBu"
      },
      "source": [
        "# モデルの定義\n",
        "\n",
        "class Net2(nn.Module):\n",
        "    def __init__(self):\n",
        "        #  親クラスnn.Modulesの初期化呼び出し\n",
        "        super().__init__()\n",
        "\n",
        "        # 出力層の定義\n",
        "        self.l1 = nn.Linear(1, 10)\n",
        "        self.l2 = nn.Linear(10, 10)\n",
        "        self.l3 = nn.Linear(10,1)\n",
        "        \n",
        "    # 予測関数の定義\n",
        "    def forward(self, x):\n",
        "        x1 = self.l1(x)\n",
        "        x2 = self.l2(x1)\n",
        "        x3 = self.l3(x2)\n",
        "        return x3"
      ],
      "execution_count": null,
      "outputs": []
    },
    {
      "cell_type": "code",
      "metadata": {
        "id": "gvbOfSCh-6mC"
      },
      "source": [
        "# 学習率\n",
        "lr = 0.01\n",
        "\n",
        "# インスタンス生成　(パラメータ値初期化)\n",
        "net2 = Net2()\n",
        "\n",
        "# 最適化アルゴリズム: 勾配降下法\n",
        "optimizer = optim.SGD(net2.parameters(), lr=lr)\n",
        "\n",
        "# 損失関数： 最小二乗誤差\n",
        "criterion = nn.MSELoss()\n",
        "\n",
        "# 繰り返し回数\n",
        "num_epochs = 10000\n",
        "\n",
        "# 評価結果記録用 (損失関数値のみ記録)\n",
        "history = np.zeros((0,2))"
      ],
      "execution_count": null,
      "outputs": []
    },
    {
      "cell_type": "code",
      "metadata": {
        "id": "8mUIKSmN-93V",
        "colab": {
          "base_uri": "https://localhost:8080/"
        },
        "outputId": "c913f4f7-0404-4119-ff30-298b6a6c3bbd"
      },
      "source": [
        "# 繰り返し計算メインループ\n",
        "\n",
        "for epoch in range(num_epochs):\n",
        "    \n",
        "    # 勾配値初期化\n",
        "    optimizer.zero_grad()\n",
        "\n",
        "    # 予測計算\n",
        "    outputs = net2(inputs)\n",
        "  \n",
        "    # 誤差計算\n",
        "    loss = criterion(outputs, labels)\n",
        "\n",
        "    #勾配計算\n",
        "    loss.backward()\n",
        "\n",
        "    # 勾配降下法の適用\n",
        "    optimizer.step()\n",
        "\n",
        "    # 100回ごとに途中経過を記録する\n",
        "    if ( epoch % 100 == 0):\n",
        "        history = np.vstack((history, np.array([epoch, loss.item()])))\n",
        "        print(f'Epoch {epoch} loss: {loss.item():.5f}')"
      ],
      "execution_count": null,
      "outputs": [
        {
          "output_type": "stream",
          "name": "stdout",
          "text": [
            "Epoch 0 loss: 6.47802\n",
            "Epoch 100 loss: 3.21544\n",
            "Epoch 200 loss: 3.21544\n",
            "Epoch 300 loss: 3.21544\n",
            "Epoch 400 loss: 3.21544\n",
            "Epoch 500 loss: 3.21544\n",
            "Epoch 600 loss: 3.21544\n",
            "Epoch 700 loss: 3.21544\n",
            "Epoch 800 loss: 3.21544\n",
            "Epoch 900 loss: 3.21544\n",
            "Epoch 1000 loss: 3.21544\n",
            "Epoch 1100 loss: 3.21544\n",
            "Epoch 1200 loss: 3.21544\n",
            "Epoch 1300 loss: 3.21544\n",
            "Epoch 1400 loss: 3.21544\n",
            "Epoch 1500 loss: 3.21544\n",
            "Epoch 1600 loss: 3.21544\n",
            "Epoch 1700 loss: 3.21544\n",
            "Epoch 1800 loss: 3.21544\n",
            "Epoch 1900 loss: 3.21544\n",
            "Epoch 2000 loss: 3.21544\n",
            "Epoch 2100 loss: 3.21544\n",
            "Epoch 2200 loss: 3.21544\n",
            "Epoch 2300 loss: 3.21544\n",
            "Epoch 2400 loss: 3.21544\n",
            "Epoch 2500 loss: 3.21544\n",
            "Epoch 2600 loss: 3.21544\n",
            "Epoch 2700 loss: 3.21544\n",
            "Epoch 2800 loss: 3.21544\n",
            "Epoch 2900 loss: 3.21544\n",
            "Epoch 3000 loss: 3.21544\n",
            "Epoch 3100 loss: 3.21544\n",
            "Epoch 3200 loss: 3.21544\n",
            "Epoch 3300 loss: 3.21544\n",
            "Epoch 3400 loss: 3.21544\n",
            "Epoch 3500 loss: 3.21544\n",
            "Epoch 3600 loss: 3.21544\n",
            "Epoch 3700 loss: 3.21544\n",
            "Epoch 3800 loss: 3.21544\n",
            "Epoch 3900 loss: 3.21544\n",
            "Epoch 4000 loss: 3.21544\n",
            "Epoch 4100 loss: 3.21544\n",
            "Epoch 4200 loss: 3.21544\n",
            "Epoch 4300 loss: 3.21544\n",
            "Epoch 4400 loss: 3.21544\n",
            "Epoch 4500 loss: 3.21544\n",
            "Epoch 4600 loss: 3.21544\n",
            "Epoch 4700 loss: 3.21544\n",
            "Epoch 4800 loss: 3.21544\n",
            "Epoch 4900 loss: 3.21544\n",
            "Epoch 5000 loss: 3.21544\n",
            "Epoch 5100 loss: 3.21544\n",
            "Epoch 5200 loss: 3.21544\n",
            "Epoch 5300 loss: 3.21544\n",
            "Epoch 5400 loss: 3.21544\n",
            "Epoch 5500 loss: 3.21544\n",
            "Epoch 5600 loss: 3.21544\n",
            "Epoch 5700 loss: 3.21544\n",
            "Epoch 5800 loss: 3.21544\n",
            "Epoch 5900 loss: 3.21544\n",
            "Epoch 6000 loss: 3.21544\n",
            "Epoch 6100 loss: 3.21544\n",
            "Epoch 6200 loss: 3.21544\n",
            "Epoch 6300 loss: 3.21544\n",
            "Epoch 6400 loss: 3.21544\n",
            "Epoch 6500 loss: 3.21544\n",
            "Epoch 6600 loss: 3.21544\n",
            "Epoch 6700 loss: 3.21544\n",
            "Epoch 6800 loss: 3.21544\n",
            "Epoch 6900 loss: 3.21544\n",
            "Epoch 7000 loss: 3.21544\n",
            "Epoch 7100 loss: 3.21544\n",
            "Epoch 7200 loss: 3.21544\n",
            "Epoch 7300 loss: 3.21544\n",
            "Epoch 7400 loss: 3.21544\n",
            "Epoch 7500 loss: 3.21544\n",
            "Epoch 7600 loss: 3.21544\n",
            "Epoch 7700 loss: 3.21544\n",
            "Epoch 7800 loss: 3.21544\n",
            "Epoch 7900 loss: 3.21544\n",
            "Epoch 8000 loss: 3.21544\n",
            "Epoch 8100 loss: 3.21544\n",
            "Epoch 8200 loss: 3.21544\n",
            "Epoch 8300 loss: 3.21544\n",
            "Epoch 8400 loss: 3.21544\n",
            "Epoch 8500 loss: 3.21544\n",
            "Epoch 8600 loss: 3.21544\n",
            "Epoch 8700 loss: 3.21544\n",
            "Epoch 8800 loss: 3.21544\n",
            "Epoch 8900 loss: 3.21544\n",
            "Epoch 9000 loss: 3.21544\n",
            "Epoch 9100 loss: 3.21544\n",
            "Epoch 9200 loss: 3.21544\n",
            "Epoch 9300 loss: 3.21544\n",
            "Epoch 9400 loss: 3.21544\n",
            "Epoch 9500 loss: 3.21544\n",
            "Epoch 9600 loss: 3.21544\n",
            "Epoch 9700 loss: 3.21544\n",
            "Epoch 9800 loss: 3.21544\n",
            "Epoch 9900 loss: 3.21544\n"
          ]
        }
      ]
    },
    {
      "cell_type": "code",
      "metadata": {
        "id": "8Dem98PE_ApM",
        "colab": {
          "base_uri": "https://localhost:8080/",
          "height": 396
        },
        "outputId": "d49e644a-eb25-4029-bacb-59829645e03b"
      },
      "source": [
        "# 結果のグラフ化\n",
        "labels_pred2 = net2(inputs_test)\n",
        "\n",
        "plt.title('隠れ層２層　活性化関数なし')\n",
        "plt.scatter(inputs_test[:,0].data, labels_pred2[:,0].data, c='b', label='予測値')\n",
        "plt.scatter(inputs_test[:,0].data, labels_test[:,0].data, c='k', marker='x',label='正解値')\n",
        "plt.legend()\n",
        "plt.show()\n"
      ],
      "execution_count": null,
      "outputs": [
        {
          "output_type": "display_data",
          "data": {
            "image/png": "[encoded data removed]",
            "text/plain": [
              "<Figure size 432x432 with 1 Axes>"
            ]
          },
          "metadata": {
            "needs_background": "light"
          }
        }
      ]
    },
    {
      "cell_type": "markdown",
      "metadata": {
        "id": "PFvMf5on_TwP"
      },
      "source": [
        "### ディープラーニング(活性化関数あり)の場合"
      ]
    },
    {
      "cell_type": "code",
      "metadata": {
        "id": "R-oqefSk_FiB"
      },
      "source": [
        "# モデルの定義\n",
        "\n",
        "class Net3(nn.Module):\n",
        "    def __init__(self):\n",
        "        #  親クラスnn.Modulesの初期化呼び出し\n",
        "        super().__init__()\n",
        "\n",
        "        # 出力層の定義\n",
        "        self.l1 = nn.Linear(1, 10)\n",
        "        self.l2 = nn.Linear(10, 10)\n",
        "        self.l3 = nn.Linear(10,1)\n",
        "        self.relu = nn.ReLU(inplace=True)\n",
        "        \n",
        "    # 予測関数の定義\n",
        "    def forward(self, x):\n",
        "        x1 = self.relu(self.l1(x))\n",
        "        x2 = self.relu(self.l2(x1))\n",
        "        x3 = self.l3(x2)\n",
        "        return x3"
      ],
      "execution_count": null,
      "outputs": []
    },
    {
      "cell_type": "code",
      "metadata": {
        "id": "5W9FC-Hm_IDA"
      },
      "source": [
        "# 学習率\n",
        "lr = 0.01\n",
        "\n",
        "# インスタンス生成　(パラメータ値初期化)\n",
        "net3 = Net3()\n",
        "\n",
        "# 最適化アルゴリズム: 勾配降下法\n",
        "optimizer = optim.SGD(net3.parameters(), lr=lr)\n",
        "\n",
        "# 損失関数： 最小二乗誤差\n",
        "criterion = nn.MSELoss()\n",
        "\n",
        "# 繰り返し回数\n",
        "num_epochs = 10000\n",
        "\n",
        "# 評価結果記録用 (損失関数値のみ記録)\n",
        "history = np.zeros((0,2))"
      ],
      "execution_count": null,
      "outputs": []
    },
    {
      "cell_type": "code",
      "metadata": {
        "id": "o0EmBr7b_n9l",
        "colab": {
          "base_uri": "https://localhost:8080/"
        },
        "outputId": "12629fba-b42e-4e61-eeed-17a0fe1bf517"
      },
      "source": [
        "# 繰り返し計算メインループ\n",
        "\n",
        "for epoch in range(num_epochs):\n",
        "    \n",
        "    # 勾配値初期化\n",
        "    optimizer.zero_grad()\n",
        "\n",
        "    # 予測計算\n",
        "    outputs = net3(inputs)\n",
        "  \n",
        "    # 誤差計算\n",
        "    loss = criterion(outputs, labels)\n",
        "\n",
        "    #勾配計算\n",
        "    loss.backward()\n",
        "\n",
        "    # 勾配降下法の適用\n",
        "    optimizer.step()\n",
        "\n",
        "    # 100回ごとに途中経過を記録する\n",
        "    if ( epoch % 100 == 0):\n",
        "        history = np.vstack((history, np.array([epoch, loss.item()])))\n",
        "        print(f'Epoch {epoch} loss: {loss.item():.5f}')"
      ],
      "execution_count": null,
      "outputs": [
        {
          "output_type": "stream",
          "name": "stdout",
          "text": [
            "Epoch 0 loss: 5.35888\n",
            "Epoch 100 loss: 0.28618\n",
            "Epoch 200 loss: 0.09844\n",
            "Epoch 300 loss: 0.05999\n",
            "Epoch 400 loss: 0.04200\n",
            "Epoch 500 loss: 0.03301\n",
            "Epoch 600 loss: 0.02688\n",
            "Epoch 700 loss: 0.02313\n",
            "Epoch 800 loss: 0.02072\n",
            "Epoch 900 loss: 0.01892\n",
            "Epoch 1000 loss: 0.01771\n",
            "Epoch 1100 loss: 0.01577\n",
            "Epoch 1200 loss: 0.01412\n",
            "Epoch 1300 loss: 0.01298\n",
            "Epoch 1400 loss: 0.01216\n",
            "Epoch 1500 loss: 0.01156\n",
            "Epoch 1600 loss: 0.01111\n",
            "Epoch 1700 loss: 0.01077\n",
            "Epoch 1800 loss: 0.01043\n",
            "Epoch 1900 loss: 0.01020\n",
            "Epoch 2000 loss: 0.01002\n",
            "Epoch 2100 loss: 0.00988\n",
            "Epoch 2200 loss: 0.00978\n",
            "Epoch 2300 loss: 0.00971\n",
            "Epoch 2400 loss: 0.00964\n",
            "Epoch 2500 loss: 0.00959\n",
            "Epoch 2600 loss: 0.00955\n",
            "Epoch 2700 loss: 0.00951\n",
            "Epoch 2800 loss: 0.00948\n",
            "Epoch 2900 loss: 0.00946\n",
            "Epoch 3000 loss: 0.00943\n",
            "Epoch 3100 loss: 0.00941\n",
            "Epoch 3200 loss: 0.00940\n",
            "Epoch 3300 loss: 0.00938\n",
            "Epoch 3400 loss: 0.00937\n",
            "Epoch 3500 loss: 0.00935\n",
            "Epoch 3600 loss: 0.00934\n",
            "Epoch 3700 loss: 0.00933\n",
            "Epoch 3800 loss: 0.00932\n",
            "Epoch 3900 loss: 0.00931\n",
            "Epoch 4000 loss: 0.00930\n",
            "Epoch 4100 loss: 0.00929\n",
            "Epoch 4200 loss: 0.00929\n",
            "Epoch 4300 loss: 0.00928\n",
            "Epoch 4400 loss: 0.00927\n",
            "Epoch 4500 loss: 0.00926\n",
            "Epoch 4600 loss: 0.00926\n",
            "Epoch 4700 loss: 0.00925\n",
            "Epoch 4800 loss: 0.00924\n",
            "Epoch 4900 loss: 0.00924\n",
            "Epoch 5000 loss: 0.00923\n",
            "Epoch 5100 loss: 0.00923\n",
            "Epoch 5200 loss: 0.00922\n",
            "Epoch 5300 loss: 0.00922\n",
            "Epoch 5400 loss: 0.00921\n",
            "Epoch 5500 loss: 0.00921\n",
            "Epoch 5600 loss: 0.00920\n",
            "Epoch 5700 loss: 0.00920\n",
            "Epoch 5800 loss: 0.00919\n",
            "Epoch 5900 loss: 0.00919\n",
            "Epoch 6000 loss: 0.00918\n",
            "Epoch 6100 loss: 0.00918\n",
            "Epoch 6200 loss: 0.00917\n",
            "Epoch 6300 loss: 0.00917\n",
            "Epoch 6400 loss: 0.00916\n",
            "Epoch 6500 loss: 0.00916\n",
            "Epoch 6600 loss: 0.00915\n",
            "Epoch 6700 loss: 0.00915\n",
            "Epoch 6800 loss: 0.00914\n",
            "Epoch 6900 loss: 0.00913\n",
            "Epoch 7000 loss: 0.00913\n",
            "Epoch 7100 loss: 0.00912\n",
            "Epoch 7200 loss: 0.00912\n",
            "Epoch 7300 loss: 0.00911\n",
            "Epoch 7400 loss: 0.00911\n",
            "Epoch 7500 loss: 0.00910\n",
            "Epoch 7600 loss: 0.00909\n",
            "Epoch 7700 loss: 0.00909\n",
            "Epoch 7800 loss: 0.00908\n",
            "Epoch 7900 loss: 0.00907\n",
            "Epoch 8000 loss: 0.00907\n",
            "Epoch 8100 loss: 0.00906\n",
            "Epoch 8200 loss: 0.00905\n",
            "Epoch 8300 loss: 0.00905\n",
            "Epoch 8400 loss: 0.00904\n",
            "Epoch 8500 loss: 0.00904\n",
            "Epoch 8600 loss: 0.00903\n",
            "Epoch 8700 loss: 0.00903\n",
            "Epoch 8800 loss: 0.00902\n",
            "Epoch 8900 loss: 0.00902\n",
            "Epoch 9000 loss: 0.00901\n",
            "Epoch 9100 loss: 0.00901\n",
            "Epoch 9200 loss: 0.00901\n",
            "Epoch 9300 loss: 0.00900\n",
            "Epoch 9400 loss: 0.00900\n",
            "Epoch 9500 loss: 0.00899\n",
            "Epoch 9600 loss: 0.00899\n",
            "Epoch 9700 loss: 0.00899\n",
            "Epoch 9800 loss: 0.00898\n",
            "Epoch 9900 loss: 0.00898\n"
          ]
        }
      ]
    },
    {
      "cell_type": "code",
      "metadata": {
        "id": "6JFjZsuD_vBE",
        "colab": {
          "base_uri": "https://localhost:8080/",
          "height": 396
        },
        "outputId": "7f92d029-2d1d-48d9-cc4b-572249ad1157"
      },
      "source": [
        "# 結果の可視化\n",
        "labels_pred3 = net3(inputs_test)\n",
        "\n",
        "plt.title('隠れ層２層　活性化関数あり')\n",
        "plt.scatter(inputs_test[:,0].data, labels_pred3[:,0].data, c='b', label='予測値')\n",
        "plt.scatter(inputs_test[:,0].data, labels_test[:,0].data, c='k', marker='x',label='正解値')\n",
        "plt.legend()\n",
        "plt.show()\n"
      ],
      "execution_count": null,
      "outputs": [
        {
          "output_type": "display_data",
          "data": {
            "image/png": "[encoded data removed]",
            "text/plain": [
              "<Figure size 432x432 with 1 Axes>"
            ]
          },
          "metadata": {
            "needs_background": "light"
          }
        }
      ]
    },
    {
      "cell_type": "code",
      "metadata": {
        "id": "A5uo6qCu_r2e"
      },
      "source": [
        ""
      ],
      "execution_count": null,
      "outputs": []
    }
  ]
}